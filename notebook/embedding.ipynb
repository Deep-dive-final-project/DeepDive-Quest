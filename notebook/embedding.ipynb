{
 "cells": [
  {
   "cell_type": "code",
   "outputs": [],
   "source": [
    "from sqlalchemy.orm import Session\n",
    "from repository.LectureRepository import LectureRepository\n",
    "from config.database.db_config import SessionLocal\n",
    "\n",
    "db: Session = SessionLocal()\n",
    "\n",
    "lectureRepository = LectureRepository(db)\n",
    "lectures = lectureRepository.get_all_lectures()"
   ],
   "metadata": {
    "collapsed": false,
    "ExecuteTime": {
     "end_time": "2024-09-09T04:15:38.690784Z",
     "start_time": "2024-09-09T04:15:36.331450Z"
    }
   },
   "id": "dd9853d467e33088",
   "execution_count": 1
  },
  {
   "cell_type": "code",
   "outputs": [],
   "source": [
    "from langchain_core.documents import Document\n",
    "\n",
    "documents = []\n",
    "\n",
    "for lecture in lectures:\n",
    "    doc = Document(\n",
    "        page_content=lecture.title + ',' + lecture.instructor + ',' + ','.join(lecture.goals + lecture.target + lecture.section_names),\n",
    "        metadata={\n",
    "            'id': lecture.id,\n",
    "            'title': lecture.title,\n",
    "            'instructor': lecture.instructor,\n",
    "            'image_url': lecture.image_url,\n",
    "            'lecture_url': lecture.lecture_url,\n",
    "            'price': lecture.price\n",
    "        }\n",
    "    )\n",
    "    documents.append(doc)"
   ],
   "metadata": {
    "collapsed": false,
    "ExecuteTime": {
     "end_time": "2024-09-09T04:15:40.589604Z",
     "start_time": "2024-09-09T04:15:40.379433Z"
    }
   },
   "id": "67507fef80956438",
   "execution_count": 2
  },
  {
   "cell_type": "code",
   "outputs": [],
   "source": [
    "from dotenv import load_dotenv\n",
    "from langchain_openai import OpenAIEmbeddings\n",
    "\n",
    "load_dotenv()\n",
    "\n",
    "embedding = OpenAIEmbeddings(model='text-embedding-3-large')"
   ],
   "metadata": {
    "collapsed": false,
    "ExecuteTime": {
     "end_time": "2024-09-09T04:15:47.691442Z",
     "start_time": "2024-09-09T04:15:47.470328Z"
    }
   },
   "id": "b85dafb78ad28ccd",
   "execution_count": 3
  },
  {
   "cell_type": "code",
   "outputs": [],
   "source": [
    "import os\n",
    "from pinecone import Pinecone\n",
    "\n",
    "pinecone_api_key = os.environ.get('PINECONE_API_KEY')\n",
    "\n",
    "pc = Pinecone(api_key=pinecone_api_key)"
   ],
   "metadata": {
    "collapsed": false,
    "ExecuteTime": {
     "end_time": "2024-09-09T04:15:51.006184Z",
     "start_time": "2024-09-09T04:15:50.868726Z"
    }
   },
   "id": "2de02201baacb496",
   "execution_count": 4
  },
  {
   "cell_type": "code",
   "outputs": [],
   "source": [
    "from langchain_pinecone import PineconeVectorStore\n",
    "\n",
    "index_name = 'inflearn-lectures'\n",
    "\n",
    "database = PineconeVectorStore.from_documents(documents, embedding, index_name=index_name)\n"
   ],
   "metadata": {
    "collapsed": false,
    "ExecuteTime": {
     "end_time": "2024-09-09T04:17:34.580324Z",
     "start_time": "2024-09-09T04:15:53.979045Z"
    }
   },
   "id": "e735dd9528e52a2d",
   "execution_count": 5
  },
  {
   "cell_type": "code",
   "outputs": [],
   "source": [
    "import warnings\n",
    "from langchain import hub\n",
    "\n",
    "warnings.filterwarnings(\"ignore\", category=UserWarning, module='langchain')\n",
    "\n",
    "prompt = hub.pull('rlm/rag-prompt')"
   ],
   "metadata": {
    "collapsed": false,
    "ExecuteTime": {
     "end_time": "2024-09-07T08:02:01.677823Z",
     "start_time": "2024-09-07T08:02:01.043052Z"
    }
   },
   "id": "9cef039760b0da7c",
   "execution_count": 8
  },
  {
   "cell_type": "code",
   "outputs": [],
   "source": [],
   "metadata": {
    "collapsed": false
   },
   "id": "d62a9dac54d7be5b"
  }
 ],
 "metadata": {
  "kernelspec": {
   "display_name": "Python 3",
   "language": "python",
   "name": "python3"
  },
  "language_info": {
   "codemirror_mode": {
    "name": "ipython",
    "version": 2
   },
   "file_extension": ".py",
   "mimetype": "text/x-python",
   "name": "python",
   "nbconvert_exporter": "python",
   "pygments_lexer": "ipython2",
   "version": "2.7.6"
  }
 },
 "nbformat": 4,
 "nbformat_minor": 5
}
